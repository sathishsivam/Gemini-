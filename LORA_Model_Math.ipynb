{
  "nbformat": 4,
  "nbformat_minor": 0,
  "metadata": {
    "colab": {
      "provenance": [],
      "authorship_tag": "ABX9TyNYvmCxR4hlbd1aDB9REiY5",
      "include_colab_link": true
    },
    "kernelspec": {
      "name": "python3",
      "display_name": "Python 3"
    },
    "language_info": {
      "name": "python"
    }
  },
  "cells": [
    {
      "cell_type": "markdown",
      "metadata": {
        "id": "view-in-github",
        "colab_type": "text"
      },
      "source": [
        "<a href=\"https://colab.research.google.com/github/sathishsivam/Gemini-/blob/main/LORA_Model_Math.ipynb\" target=\"_parent\"><img src=\"https://colab.research.google.com/assets/colab-badge.svg\" alt=\"Open In Colab\"/></a>"
      ]
    },
    {
      "cell_type": "code",
      "execution_count": 1,
      "metadata": {
        "id": "f15tp79zqmOV"
      },
      "outputs": [],
      "source": [
        "import torch"
      ]
    },
    {
      "cell_type": "code",
      "source": [
        "import numpy as np\n",
        "_=torch.manual_seed(0)"
      ],
      "metadata": {
        "id": "0IUu1dRYq0x9"
      },
      "execution_count": 2,
      "outputs": []
    },
    {
      "cell_type": "code",
      "source": [],
      "metadata": {
        "id": "nx5Xa_Weq8sM"
      },
      "execution_count": null,
      "outputs": []
    },
    {
      "cell_type": "markdown",
      "source": [
        "Generating a Rank Deficient Matrix W"
      ],
      "metadata": {
        "id": "GobwPrERq_md"
      }
    },
    {
      "cell_type": "code",
      "source": [
        "d,k=10,10\n",
        "W_rank=2\n",
        "W=torch.randn(d,W_rank) @ torch.randn(W_rank,k)"
      ],
      "metadata": {
        "id": "NISH_hHWrDTK"
      },
      "execution_count": 3,
      "outputs": []
    },
    {
      "cell_type": "code",
      "source": [
        "W"
      ],
      "metadata": {
        "colab": {
          "base_uri": "https://localhost:8080/"
        },
        "id": "PKMiIuS1rXBF",
        "outputId": "61d9497e-2ed4-416b-c399-56664d109ed2"
      },
      "execution_count": 4,
      "outputs": [
        {
          "output_type": "execute_result",
          "data": {
            "text/plain": [
              "tensor([[-1.0797,  0.5545,  0.8058, -0.7140, -0.1518,  1.0773,  2.3690,  0.8486,\n",
              "         -1.1825, -3.2632],\n",
              "        [-0.3303,  0.2283,  0.4145, -0.1924, -0.0215,  0.3276,  0.7926,  0.2233,\n",
              "         -0.3422, -0.9614],\n",
              "        [-0.5256,  0.9864,  2.4447, -0.0290,  0.2305,  0.5000,  1.9831, -0.0311,\n",
              "         -0.3369, -1.1376],\n",
              "        [ 0.7900, -1.1336, -2.6746,  0.1988, -0.1982, -0.7634, -2.5763, -0.1696,\n",
              "          0.6227,  1.9294],\n",
              "        [ 0.1258,  0.1458,  0.5090,  0.1768,  0.1071, -0.1327, -0.0323, -0.2294,\n",
              "          0.2079,  0.5128],\n",
              "        [ 0.7697,  0.0050,  0.5725,  0.6870,  0.2783, -0.7818, -1.2253, -0.8533,\n",
              "          0.9765,  2.5786],\n",
              "        [ 1.4157, -0.7814, -1.2121,  0.9120,  0.1760, -1.4108, -3.1692, -1.0791,\n",
              "          1.5325,  4.2447],\n",
              "        [-0.0119,  0.6050,  1.7245,  0.2584,  0.2528, -0.0086,  0.7198, -0.3620,\n",
              "          0.1865,  0.3410],\n",
              "        [ 1.0485, -0.6394, -1.0715,  0.6485,  0.1046, -1.0427, -2.4174, -0.7615,\n",
              "          1.1147,  3.1054],\n",
              "        [ 0.9088,  0.1936,  1.2136,  0.8946,  0.4084, -0.9295, -1.2294, -1.1239,\n",
              "          1.2155,  3.1628]])"
            ]
          },
          "metadata": {},
          "execution_count": 4
        }
      ]
    },
    {
      "cell_type": "code",
      "source": [
        "# Evaluate the rank of matrix W\n",
        "\n",
        "W_rank=np.linalg.matrix_rank(W)\n",
        "W_rank"
      ],
      "metadata": {
        "colab": {
          "base_uri": "https://localhost:8080/"
        },
        "id": "wWvDCvezrYZT",
        "outputId": "a615a962-3c47-4ecc-b236-11d948058e1e"
      },
      "execution_count": 7,
      "outputs": [
        {
          "output_type": "execute_result",
          "data": {
            "text/plain": [
              "2"
            ]
          },
          "metadata": {},
          "execution_count": 7
        }
      ]
    },
    {
      "cell_type": "code",
      "source": [],
      "metadata": {
        "id": "ypmzMcltrxKz"
      },
      "execution_count": null,
      "outputs": []
    },
    {
      "cell_type": "markdown",
      "source": [
        "**Now we are going to decompose this matrix by an algorithm called SVD Which means Singular Value Decomposition,which produces three matrices u s v when multiplied together they give us W , but the dimension of these decomposed matrices are much smaller based on the rank **"
      ],
      "metadata": {
        "id": "zI4cdRnisGrW"
      }
    },
    {
      "cell_type": "code",
      "source": [
        "# Perform Singular Value Decomposition on W (W=u*s*v^T)\n",
        "u,s,v=torch.svd(W)"
      ],
      "metadata": {
        "id": "LqpR8VI7svVb"
      },
      "execution_count": 8,
      "outputs": []
    },
    {
      "cell_type": "code",
      "source": [
        "u"
      ],
      "metadata": {
        "colab": {
          "base_uri": "https://localhost:8080/"
        },
        "id": "NGjyd4SZ3eyH",
        "outputId": "a8f3784e-aa7a-4ca7-8ea0-9da8c6bf975d"
      },
      "execution_count": 33,
      "outputs": [
        {
          "output_type": "execute_result",
          "data": {
            "text/plain": [
              "tensor([[-0.4130,  0.0610,  0.8735,  0.0523,  0.0055,  0.1452, -0.0751, -0.1798,\n",
              "         -0.0272, -0.0164],\n",
              "        [-0.1299, -0.0221,  0.0303, -0.4812, -0.2519,  0.2625, -0.0212,  0.5134,\n",
              "         -0.3179,  0.5028],\n",
              "        [-0.2440, -0.4687, -0.0597,  0.7109, -0.1705, -0.1268, -0.1624,  0.2864,\n",
              "         -0.1610,  0.1801],\n",
              "        [ 0.3458,  0.4616,  0.1838,  0.2170, -0.6189, -0.0573, -0.1601,  0.2836,\n",
              "          0.2950, -0.0836],\n",
              "        [ 0.0355, -0.1535,  0.0391, -0.0458,  0.1397, -0.0743, -0.1325, -0.1231,\n",
              "          0.7134,  0.6363],\n",
              "        [ 0.2704, -0.3220,  0.2972,  0.0064,  0.0328, -0.0857,  0.7762,  0.3069,\n",
              "          0.1533, -0.0786],\n",
              "        [ 0.5448, -0.0423,  0.2849, -0.0307,  0.1086, -0.5028, -0.1895, -0.1721,\n",
              "         -0.4521,  0.2911],\n",
              "        [-0.0405, -0.4159,  0.1116, -0.3984,  0.0174, -0.3153, -0.4487,  0.3198,\n",
              "          0.2185, -0.4508],\n",
              "        [ 0.4071,  0.0109,  0.1229,  0.2090,  0.5239,  0.5625, -0.2801,  0.3187,\n",
              "          0.0066, -0.0660],\n",
              "        [ 0.3081, -0.5108,  0.0130, -0.0879, -0.4661,  0.4573, -0.0783, -0.4460,\n",
              "         -0.0265, -0.0647]])"
            ]
          },
          "metadata": {},
          "execution_count": 33
        }
      ]
    },
    {
      "cell_type": "code",
      "source": [
        "\n",
        "u_r=u[:,:W_rank]\n"
      ],
      "metadata": {
        "id": "ZDZ2lVCftnZS"
      },
      "execution_count": 13,
      "outputs": []
    },
    {
      "cell_type": "code",
      "source": [
        "u_r"
      ],
      "metadata": {
        "colab": {
          "base_uri": "https://localhost:8080/"
        },
        "id": "UjqgILacuE87",
        "outputId": "18e0c7c2-1b0f-45e8-d889-a1d32b9dc7db"
      },
      "execution_count": 14,
      "outputs": [
        {
          "output_type": "execute_result",
          "data": {
            "text/plain": [
              "tensor([[-0.4130,  0.0610],\n",
              "        [-0.1299, -0.0221],\n",
              "        [-0.2440, -0.4687],\n",
              "        [ 0.3458,  0.4616],\n",
              "        [ 0.0355, -0.1535],\n",
              "        [ 0.2704, -0.3220],\n",
              "        [ 0.5448, -0.0423],\n",
              "        [-0.0405, -0.4159],\n",
              "        [ 0.4071,  0.0109],\n",
              "        [ 0.3081, -0.5108]])"
            ]
          },
          "metadata": {},
          "execution_count": 14
        }
      ]
    },
    {
      "cell_type": "code",
      "source": [
        "s_r"
      ],
      "metadata": {
        "colab": {
          "base_uri": "https://localhost:8080/"
        },
        "id": "9j03xdBE3ldF",
        "outputId": "bd75d815-aea6-46cf-eb72-b5b05f171e9f"
      },
      "execution_count": 34,
      "outputs": [
        {
          "output_type": "execute_result",
          "data": {
            "text/plain": [
              "tensor([[11.3851,  0.0000],\n",
              "        [ 0.0000,  4.8439]])"
            ]
          },
          "metadata": {},
          "execution_count": 34
        }
      ]
    },
    {
      "cell_type": "code",
      "source": [
        "s_r=torch.diag(s[:W_rank])"
      ],
      "metadata": {
        "id": "q6FDb3wYuF78"
      },
      "execution_count": 15,
      "outputs": []
    },
    {
      "cell_type": "code",
      "source": [
        "s_r"
      ],
      "metadata": {
        "colab": {
          "base_uri": "https://localhost:8080/"
        },
        "id": "hcQ9cLINuRab",
        "outputId": "e7d76e22-0819-46b1-8622-5dd6662a222b"
      },
      "execution_count": 16,
      "outputs": [
        {
          "output_type": "execute_result",
          "data": {
            "text/plain": [
              "tensor([[11.3851,  0.0000],\n",
              "        [ 0.0000,  4.8439]])"
            ]
          },
          "metadata": {},
          "execution_count": 16
        }
      ]
    },
    {
      "cell_type": "code",
      "source": [
        "v_r"
      ],
      "metadata": {
        "colab": {
          "base_uri": "https://localhost:8080/"
        },
        "id": "2QkAuQKd3uJN",
        "outputId": "ea0fd1ae-e933-4d4c-e3df-fb9ded2d0e62"
      },
      "execution_count": 35,
      "outputs": [
        {
          "output_type": "execute_result",
          "data": {
            "text/plain": [
              "tensor([[ 0.2267, -0.1349, -0.2220,  0.1417,  0.0240, -0.2256, -0.5189, -0.1668,\n",
              "          0.2422,  0.6737],\n",
              "        [-0.0459, -0.2695, -0.8052, -0.1607, -0.1310,  0.0559, -0.2386,  0.2178,\n",
              "         -0.1480, -0.3233]])"
            ]
          },
          "metadata": {},
          "execution_count": 35
        }
      ]
    },
    {
      "cell_type": "code",
      "source": [
        "v_r=v[:,:W_rank].t()"
      ],
      "metadata": {
        "id": "UxfJwRs2uSuT"
      },
      "execution_count": 36,
      "outputs": []
    },
    {
      "cell_type": "code",
      "source": [
        "v_r"
      ],
      "metadata": {
        "colab": {
          "base_uri": "https://localhost:8080/"
        },
        "id": "VNAS-t2NucDz",
        "outputId": "3156571d-3f5d-41e3-91a0-17c7cec9b4d5"
      },
      "execution_count": 37,
      "outputs": [
        {
          "output_type": "execute_result",
          "data": {
            "text/plain": [
              "tensor([[ 0.2267, -0.1349, -0.2220,  0.1417,  0.0240, -0.2256, -0.5189, -0.1668,\n",
              "          0.2422,  0.6737],\n",
              "        [-0.0459, -0.2695, -0.8052, -0.1607, -0.1310,  0.0559, -0.2386,  0.2178,\n",
              "         -0.1480, -0.3233]])"
            ]
          },
          "metadata": {},
          "execution_count": 37
        }
      ]
    },
    {
      "cell_type": "code",
      "source": [
        "B=u_r@s_r"
      ],
      "metadata": {
        "id": "fMuvZOy3uc4C"
      },
      "execution_count": 19,
      "outputs": []
    },
    {
      "cell_type": "code",
      "source": [
        "A=v_r"
      ],
      "metadata": {
        "id": "x05yfnpfuj1b"
      },
      "execution_count": 20,
      "outputs": []
    },
    {
      "cell_type": "code",
      "source": [
        "B.shape"
      ],
      "metadata": {
        "colab": {
          "base_uri": "https://localhost:8080/"
        },
        "id": "mUjwGTJCumPn",
        "outputId": "715f7f0d-476a-456b-ef84-08172edde2aa"
      },
      "execution_count": 24,
      "outputs": [
        {
          "output_type": "execute_result",
          "data": {
            "text/plain": [
              "torch.Size([10, 2])"
            ]
          },
          "metadata": {},
          "execution_count": 24
        }
      ]
    },
    {
      "cell_type": "code",
      "source": [
        "A.shape"
      ],
      "metadata": {
        "colab": {
          "base_uri": "https://localhost:8080/"
        },
        "id": "KVS18gRsun_q",
        "outputId": "56aa97bc-3b15-4f2c-b5b4-18d8a6cebda9"
      },
      "execution_count": 25,
      "outputs": [
        {
          "output_type": "execute_result",
          "data": {
            "text/plain": [
              "torch.Size([2, 10])"
            ]
          },
          "metadata": {},
          "execution_count": 25
        }
      ]
    },
    {
      "cell_type": "code",
      "source": [
        "bias=torch.randn(d)\n",
        "x=torch.randn(d)"
      ],
      "metadata": {
        "id": "y_PdXzKevYPL"
      },
      "execution_count": 26,
      "outputs": []
    },
    {
      "cell_type": "code",
      "source": [
        "y=W@x+bias"
      ],
      "metadata": {
        "id": "zZnGAimnwQCz"
      },
      "execution_count": 27,
      "outputs": []
    },
    {
      "cell_type": "code",
      "source": [
        "y_prime=(B@A)@x+bias"
      ],
      "metadata": {
        "id": "ZWAn0Wh0wWvr"
      },
      "execution_count": 28,
      "outputs": []
    },
    {
      "cell_type": "code",
      "source": [
        "print(\"original y using W\\n\",y)\n",
        "print(\"\")\n",
        "print(\"y computed using BA\\n\",y_prime)"
      ],
      "metadata": {
        "colab": {
          "base_uri": "https://localhost:8080/"
        },
        "id": "djH0NvEEwhlL",
        "outputId": "3a2753b3-db0b-4536-cf3d-6be172c4a9a5"
      },
      "execution_count": 29,
      "outputs": [
        {
          "output_type": "stream",
          "name": "stdout",
          "text": [
            "original y using W\n",
            " tensor([ 7.2684e+00,  2.3162e+00,  7.7151e+00, -1.0446e+01, -8.1639e-03,\n",
            "        -3.7270e+00, -1.1146e+01,  2.0207e+00, -9.6258e+00, -4.1163e+00])\n",
            "\n",
            "y computed using BA\n",
            " tensor([ 7.2684e+00,  2.3162e+00,  7.7151e+00, -1.0446e+01, -8.1638e-03,\n",
            "        -3.7270e+00, -1.1146e+01,  2.0207e+00, -9.6258e+00, -4.1163e+00])\n"
          ]
        }
      ]
    },
    {
      "cell_type": "code",
      "source": [
        "print(\"Total parameters of W\",W.nelement())"
      ],
      "metadata": {
        "colab": {
          "base_uri": "https://localhost:8080/"
        },
        "id": "lJNMp2hOwwk7",
        "outputId": "8ca60063-529f-47dd-cee1-43fc843e3fb0"
      },
      "execution_count": 31,
      "outputs": [
        {
          "output_type": "stream",
          "name": "stdout",
          "text": [
            "Total parameters of W 100\n"
          ]
        }
      ]
    },
    {
      "cell_type": "code",
      "source": [
        "print(\"Total parameter and B and A\",B.nelement()+A.nelement())"
      ],
      "metadata": {
        "colab": {
          "base_uri": "https://localhost:8080/"
        },
        "id": "p65A5GMxw_3L",
        "outputId": "f00d07eb-8d08-4c3f-897e-73782142104b"
      },
      "execution_count": 32,
      "outputs": [
        {
          "output_type": "stream",
          "name": "stdout",
          "text": [
            "Total parameter and B and A 40\n"
          ]
        }
      ]
    },
    {
      "cell_type": "code",
      "source": [],
      "metadata": {
        "id": "9FxUM7eSxGcb"
      },
      "execution_count": null,
      "outputs": []
    },
    {
      "cell_type": "markdown",
      "source": [
        "reference\n",
        "\n",
        "Umar Jamil LORA-Low Rank Adaptation of Large Language Models"
      ],
      "metadata": {
        "id": "IgGw8bjx6Ng4"
      }
    },
    {
      "cell_type": "code",
      "source": [],
      "metadata": {
        "id": "zPIereM36UNU"
      },
      "execution_count": null,
      "outputs": []
    }
  ]
}